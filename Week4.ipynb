{
 "cells": [
  {
   "cell_type": "code",
   "execution_count": 1,
   "metadata": {},
   "outputs": [],
   "source": [
    "import sqlite3"
   ]
  },
  {
   "cell_type": "code",
   "execution_count": 2,
   "metadata": {},
   "outputs": [
    {
     "data": {
      "text/plain": [
       "<sqlite3.Cursor at 0x23093da71c0>"
      ]
     },
     "execution_count": 2,
     "metadata": {},
     "output_type": "execute_result"
    }
   ],
   "source": [
    "conn = sqlite3.connect('INSTRUCTORS.db')\n",
    "cursor_obj = conn.cursor()\n",
    "\n",
    "cursor_obj.execute(\"\"\"DROP TABLE IF EXISTS INSTRUCTORS\"\"\")"
   ]
  },
  {
   "cell_type": "code",
   "execution_count": 3,
   "metadata": {},
   "outputs": [
    {
     "name": "stdout",
     "output_type": "stream",
     "text": [
      "It is done!\n"
     ]
    }
   ],
   "source": [
    "command1 = \"\"\"create table IF NOT EXISTS INSTRUCTORS(ID INTEGER PRIMARY KEY NOT NULL, FNAME VARCHAR(20), LNAME VARCHAR(20), CITY VARCHAR(20), CCODE CHAR(2));\"\"\"\n",
    "\n",
    "cursor_obj.execute(command1)\n",
    "\n",
    "print(\"It is done!\")"
   ]
  },
  {
   "cell_type": "code",
   "execution_count": 4,
   "metadata": {},
   "outputs": [
    {
     "data": {
      "text/plain": [
       "<sqlite3.Cursor at 0x23093da71c0>"
      ]
     },
     "execution_count": 4,
     "metadata": {},
     "output_type": "execute_result"
    }
   ],
   "source": [
    "cursor_obj.execute('''insert into INSTRUCTORS values (001, 'Rav', 'Ahuja', 'TORONTO', 'CA')''')\n",
    "cursor_obj.execute('''insert into INSTRUCTORS values (002, 'Kayode', 'Mark', 'LAGOS', 'NG')''')"
   ]
  },
  {
   "cell_type": "code",
   "execution_count": 5,
   "metadata": {},
   "outputs": [
    {
     "name": "stdout",
     "output_type": "stream",
     "text": [
      "(1, 'Rav', 'Ahuja', 'TORONTO', 'CA')\n",
      "(2, 'Kayode', 'Mark', 'LAGOS', 'NG')\n",
      "All the data\n"
     ]
    }
   ],
   "source": [
    "statement = '''SELECT * FROM INSTRUCTORS'''\n",
    "cursor_obj.execute(statement)\n",
    "\n",
    "output_all = cursor_obj.fetchall()\n",
    "for row_all in output_all:\n",
    "  print(row_all)\n",
    "print(\"All the data\")\n",
    "\n"
   ]
  },
  {
   "cell_type": "code",
   "execution_count": 6,
   "metadata": {},
   "outputs": [
    {
     "data": {
      "text/plain": [
       "<sqlite3.Cursor at 0x23093da71c0>"
      ]
     },
     "execution_count": 6,
     "metadata": {},
     "output_type": "execute_result"
    }
   ],
   "source": [
    "cursor_obj.execute('''update INSTRUCTORS set CITY = 'IBADAN' where ID = 002''')\n"
   ]
  },
  {
   "cell_type": "code",
   "execution_count": 7,
   "metadata": {},
   "outputs": [
    {
     "name": "stdout",
     "output_type": "stream",
     "text": [
      "   ID   FNAME  LNAME     CITY CCODE\n",
      "0   1     Rav  Ahuja  TORONTO    CA\n",
      "1   2  Kayode   Mark   IBADAN    NG\n"
     ]
    }
   ],
   "source": [
    "import pandas as pd\n",
    "\n",
    "df = pd.read_sql_query(\"select * from INSTRUCTORS\", conn)\n",
    "\n",
    "print(df)"
   ]
  },
  {
   "cell_type": "code",
   "execution_count": 8,
   "metadata": {},
   "outputs": [
    {
     "data": {
      "text/plain": [
       "'Kayode'"
      ]
     },
     "execution_count": 8,
     "metadata": {},
     "output_type": "execute_result"
    }
   ],
   "source": [
    "df.FNAME[1]"
   ]
  },
  {
   "cell_type": "code",
   "execution_count": 9,
   "metadata": {},
   "outputs": [
    {
     "data": {
      "text/plain": [
       "(2, 5)"
      ]
     },
     "execution_count": 9,
     "metadata": {},
     "output_type": "execute_result"
    }
   ],
   "source": [
    "df.shape"
   ]
  },
  {
   "cell_type": "code",
   "execution_count": null,
   "metadata": {},
   "outputs": [],
   "source": [
    "conn.close()"
   ]
  }
 ],
 "metadata": {
  "kernelspec": {
   "display_name": "Python 3",
   "language": "python",
   "name": "python3"
  },
  "language_info": {
   "codemirror_mode": {
    "name": "ipython",
    "version": 3
   },
   "file_extension": ".py",
   "mimetype": "text/x-python",
   "name": "python",
   "nbconvert_exporter": "python",
   "pygments_lexer": "ipython3",
   "version": "3.10.5"
  },
  "orig_nbformat": 4
 },
 "nbformat": 4,
 "nbformat_minor": 2
}
